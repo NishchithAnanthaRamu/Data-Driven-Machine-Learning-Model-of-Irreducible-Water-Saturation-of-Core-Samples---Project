{
 "cells": [
  {
   "cell_type": "code",
   "execution_count": null,
   "id": "f33a8f62",
   "metadata": {},
   "outputs": [],
   "source": [
    "#Build a data-driven model of Irreducible Water Saturation of Core Samples"
   ]
  },
  {
   "cell_type": "code",
   "execution_count": 4,
   "id": "d88e396d",
   "metadata": {},
   "outputs": [
    {
     "data": {
      "text/html": [
       "<div>\n",
       "<style scoped>\n",
       "    .dataframe tbody tr th:only-of-type {\n",
       "        vertical-align: middle;\n",
       "    }\n",
       "\n",
       "    .dataframe tbody tr th {\n",
       "        vertical-align: top;\n",
       "    }\n",
       "\n",
       "    .dataframe thead th {\n",
       "        text-align: right;\n",
       "    }\n",
       "</style>\n",
       "<table border=\"1\" class=\"dataframe\">\n",
       "  <thead>\n",
       "    <tr style=\"text-align: right;\">\n",
       "      <th></th>\n",
       "      <th>Porosity</th>\n",
       "      <th>TOC</th>\n",
       "      <th>Quartz</th>\n",
       "      <th>Calcite</th>\n",
       "      <th>Swirr</th>\n",
       "    </tr>\n",
       "    <tr>\n",
       "      <th>Depth</th>\n",
       "      <th></th>\n",
       "      <th></th>\n",
       "      <th></th>\n",
       "      <th></th>\n",
       "      <th></th>\n",
       "    </tr>\n",
       "  </thead>\n",
       "  <tbody>\n",
       "    <tr>\n",
       "      <th>2773.88</th>\n",
       "      <td>6.78</td>\n",
       "      <td>4.3</td>\n",
       "      <td>40.1</td>\n",
       "      <td>0.0</td>\n",
       "      <td>6.999580</td>\n",
       "    </tr>\n",
       "    <tr>\n",
       "      <th>2776.00</th>\n",
       "      <td>6.17</td>\n",
       "      <td>4.4</td>\n",
       "      <td>50.5</td>\n",
       "      <td>6.5</td>\n",
       "      <td>9.163555</td>\n",
       "    </tr>\n",
       "    <tr>\n",
       "      <th>2778.13</th>\n",
       "      <td>4.99</td>\n",
       "      <td>3.5</td>\n",
       "      <td>42.6</td>\n",
       "      <td>2.6</td>\n",
       "      <td>5.775995</td>\n",
       "    </tr>\n",
       "    <tr>\n",
       "      <th>2780.25</th>\n",
       "      <td>6.10</td>\n",
       "      <td>0.4</td>\n",
       "      <td>4.8</td>\n",
       "      <td>69.7</td>\n",
       "      <td>11.773500</td>\n",
       "    </tr>\n",
       "    <tr>\n",
       "      <th>2782.48</th>\n",
       "      <td>5.72</td>\n",
       "      <td>4.1</td>\n",
       "      <td>38.5</td>\n",
       "      <td>0.6</td>\n",
       "      <td>7.096080</td>\n",
       "    </tr>\n",
       "  </tbody>\n",
       "</table>\n",
       "</div>"
      ],
      "text/plain": [
       "         Porosity  TOC  Quartz  Calcite      Swirr\n",
       "Depth                                             \n",
       "2773.88      6.78  4.3    40.1      0.0   6.999580\n",
       "2776.00      6.17  4.4    50.5      6.5   9.163555\n",
       "2778.13      4.99  3.5    42.6      2.6   5.775995\n",
       "2780.25      6.10  0.4     4.8     69.7  11.773500\n",
       "2782.48      5.72  4.1    38.5      0.6   7.096080"
      ]
     },
     "execution_count": 4,
     "metadata": {},
     "output_type": "execute_result"
    }
   ],
   "source": [
    "#Task 1: Load Data\n",
    "\n",
    "#Use Pandas inbuilt function to load the Core_Swi_SM.xlsx file.\n",
    "\n",
    "import numpy as np\n",
    "import pandas as pd\n",
    "cord=pd.read_excel('Core_Swi_SM.xlsx',index_col= 0 )\n",
    "cord.head()"
   ]
  },
  {
   "cell_type": "code",
   "execution_count": 6,
   "id": "da721a71",
   "metadata": {},
   "outputs": [
    {
     "data": {
      "text/plain": [
       "(167, 5)"
      ]
     },
     "execution_count": 6,
     "metadata": {},
     "output_type": "execute_result"
    }
   ],
   "source": [
    "# convert dataframe to array \n",
    "cor=cord.values\n",
    "cor.shape"
   ]
  },
  {
   "cell_type": "code",
   "execution_count": 8,
   "id": "0ee433dc",
   "metadata": {},
   "outputs": [],
   "source": [
    "# store features in X\n",
    "X = cor[:,:4] "
   ]
  },
  {
   "cell_type": "code",
   "execution_count": 10,
   "id": "a7b83e37",
   "metadata": {},
   "outputs": [],
   "source": [
    "# store target in y\n",
    "y = cor[:,4]"
   ]
  },
  {
   "cell_type": "code",
   "execution_count": 13,
   "id": "4ceda0e2",
   "metadata": {},
   "outputs": [
    {
     "data": {
      "text/plain": [
       "167"
      ]
     },
     "execution_count": 13,
     "metadata": {},
     "output_type": "execute_result"
    }
   ],
   "source": [
    "# number of samples\n",
    "X.shape[0] "
   ]
  },
  {
   "cell_type": "code",
   "execution_count": 15,
   "id": "24f3f25f",
   "metadata": {},
   "outputs": [
    {
     "data": {
      "text/plain": [
       "4"
      ]
     },
     "execution_count": 15,
     "metadata": {},
     "output_type": "execute_result"
    }
   ],
   "source": [
    "# number of features\n",
    "X.shape[1]"
   ]
  },
  {
   "cell_type": "code",
   "execution_count": 17,
   "id": "61b02dbf",
   "metadata": {},
   "outputs": [],
   "source": [
    "#Perform train-test split. Use 80% of data as the training set.\n",
    "from sklearn.model_selection import train_test_split\n",
    "X_train, X_test, y_train, y_test = train_test_split(X, y, random_state=4, train_size=0.8)"
   ]
  },
  {
   "cell_type": "code",
   "execution_count": 19,
   "id": "c0506b5c",
   "metadata": {},
   "outputs": [
    {
     "data": {
      "text/plain": [
       "array([ 1,  1,  1,  1,  1,  1,  1,  1,  1,  1,  1,  1,  1,  1,  1,  1,  1,\n",
       "        1,  1,  1,  1,  1,  1,  1,  1,  1,  1, -1,  1,  1,  1,  1,  1,  1,\n",
       "        1,  1,  1,  1,  1,  1,  1,  1,  1,  1,  1,  1,  1,  1,  1,  1,  1,\n",
       "        1,  1,  1,  1,  1,  1,  1,  1,  1,  1,  1,  1,  1,  1,  1,  1,  1,\n",
       "        1,  1,  1,  1,  1,  1,  1,  1,  1,  1,  1,  1,  1,  1,  1,  1,  1,\n",
       "        1,  1,  1,  1,  1,  1,  1,  1, -1,  1, -1,  1,  1,  1,  1,  1,  1,\n",
       "        1, -1,  1,  1,  1,  1,  1,  1,  1,  1,  1,  1,  1,  1,  1,  1,  1,\n",
       "        1,  1,  1,  1,  1,  1,  1,  1,  1,  1,  1,  1,  1,  1])"
      ]
     },
     "execution_count": 19,
     "metadata": {},
     "output_type": "execute_result"
    }
   ],
   "source": [
    "## isolation forest does not need scaling. LOF and KDE need scaling.\n",
    "\n",
    "from sklearn.ensemble import IsolationForest\n",
    "out = IsolationForest(contamination = 0.03, max_samples = 0.8, max_features=1.0)\n",
    "out.fit(X_train)\n",
    "in_out=out.predict(X_train)\n",
    "in_out"
   ]
  },
  {
   "cell_type": "code",
   "execution_count": 21,
   "id": "ee663538",
   "metadata": {},
   "outputs": [],
   "source": [
    "X_train_i = X_train[in_out==1] ## inlier training feature set\n",
    "y_train_i = y_train[in_out==1] ## inlier training target set"
   ]
  },
  {
   "cell_type": "code",
   "execution_count": 23,
   "id": "b93a7f3d",
   "metadata": {},
   "outputs": [],
   "source": [
    "X_test_i =X_test[out.predict(X_test)==1] ## inlier training target set\n",
    "y_test_i =y_test[out.predict(X_test)==1] ## inlier testing target set"
   ]
  },
  {
   "cell_type": "code",
   "execution_count": 24,
   "id": "133f246c",
   "metadata": {},
   "outputs": [
    {
     "data": {
      "text/plain": [
       "array([[ 1.42,  0.7 ,  5.4 , 79.5 ],\n",
       "       [ 2.18,  0.7 ,  0.  , 82.5 ],\n",
       "       [ 2.05,  0.5 ,  1.9 , 72.2 ],\n",
       "       [ 6.1 ,  0.4 ,  4.8 , 69.7 ]])"
      ]
     },
     "execution_count": 24,
     "metadata": {},
     "output_type": "execute_result"
    }
   ],
   "source": [
    "X_train[out.predict(X_train)==-1] ## outlier in training data"
   ]
  },
  {
   "cell_type": "code",
   "execution_count": 25,
   "id": "350ec002",
   "metadata": {},
   "outputs": [],
   "source": [
    "## export outlier detection \n",
    "import pickle \n",
    "\n",
    "filename = 'Swirr_Outlier.sav'\n",
    "\n",
    "pickle.dump(out, open(filename, 'wb'))"
   ]
  },
  {
   "cell_type": "code",
   "execution_count": 26,
   "id": "bf39a81c",
   "metadata": {},
   "outputs": [],
   "source": [
    "## train scaler \n",
    "from sklearn.preprocessing import StandardScaler\n",
    "scl= StandardScaler()\n",
    "scl.fit(X_train_i)\n",
    "X_train_i_s=scl.transform(X_train_i)\n",
    "X_test_i_s=scl.transform(X_test_i)"
   ]
  },
  {
   "cell_type": "code",
   "execution_count": 27,
   "id": "477ccc2a",
   "metadata": {},
   "outputs": [],
   "source": [
    "## export scaler\n",
    "\n",
    "filename = 'Swirr_Scaler.sav'\n",
    "pickle.dump(scl, open(filename, 'wb'))"
   ]
  },
  {
   "cell_type": "code",
   "execution_count": 28,
   "id": "3ce82380",
   "metadata": {},
   "outputs": [],
   "source": [
    "#Training the Random Forest Regressor model\n",
    "\n",
    "from sklearn.ensemble import RandomForestRegressor\n",
    "rfr = RandomForestRegressor()"
   ]
  },
  {
   "cell_type": "code",
   "execution_count": 29,
   "id": "54bd34a6",
   "metadata": {},
   "outputs": [],
   "source": [
    "# instantiate the Kfold CrossValidation\n",
    "\n",
    "from sklearn.model_selection import KFold\n",
    "cv1 = KFold(n_splits=3, shuffle = True) "
   ]
  },
  {
   "cell_type": "code",
   "execution_count": 30,
   "id": "997cd63f",
   "metadata": {},
   "outputs": [],
   "source": [
    "from sklearn.model_selection import GridSearchCV"
   ]
  },
  {
   "cell_type": "code",
   "execution_count": 31,
   "id": "4dd66f59",
   "metadata": {},
   "outputs": [
    {
     "name": "stdout",
     "output_type": "stream",
     "text": [
      "Fitting 3 folds for each of 54 candidates, totalling 162 fits\n",
      "[CV 1/3] END max_depth=4, max_features=2, min_samples_leaf=2, n_estimators=50;, score=0.818 total time=   0.0s\n",
      "[CV 2/3] END max_depth=4, max_features=2, min_samples_leaf=2, n_estimators=50;, score=0.779 total time=   0.0s\n",
      "[CV 3/3] END max_depth=4, max_features=2, min_samples_leaf=2, n_estimators=50;, score=0.802 total time=   0.0s\n",
      "[CV 1/3] END max_depth=4, max_features=2, min_samples_leaf=2, n_estimators=150;, score=0.835 total time=   0.1s\n",
      "[CV 2/3] END max_depth=4, max_features=2, min_samples_leaf=2, n_estimators=150;, score=0.770 total time=   0.1s\n",
      "[CV 3/3] END max_depth=4, max_features=2, min_samples_leaf=2, n_estimators=150;, score=0.838 total time=   0.1s\n",
      "[CV 1/3] END max_depth=4, max_features=2, min_samples_leaf=2, n_estimators=300;, score=0.840 total time=   0.3s\n",
      "[CV 2/3] END max_depth=4, max_features=2, min_samples_leaf=2, n_estimators=300;, score=0.783 total time=   0.3s\n",
      "[CV 3/3] END max_depth=4, max_features=2, min_samples_leaf=2, n_estimators=300;, score=0.838 total time=   0.5s\n",
      "[CV 1/3] END max_depth=4, max_features=2, min_samples_leaf=5, n_estimators=50;, score=0.755 total time=   0.0s\n",
      "[CV 2/3] END max_depth=4, max_features=2, min_samples_leaf=5, n_estimators=50;, score=0.739 total time=   0.0s\n",
      "[CV 3/3] END max_depth=4, max_features=2, min_samples_leaf=5, n_estimators=50;, score=0.795 total time=   0.0s\n",
      "[CV 1/3] END max_depth=4, max_features=2, min_samples_leaf=5, n_estimators=150;, score=0.750 total time=   0.2s\n",
      "[CV 2/3] END max_depth=4, max_features=2, min_samples_leaf=5, n_estimators=150;, score=0.743 total time=   0.1s\n",
      "[CV 3/3] END max_depth=4, max_features=2, min_samples_leaf=5, n_estimators=150;, score=0.762 total time=   0.1s\n",
      "[CV 1/3] END max_depth=4, max_features=2, min_samples_leaf=5, n_estimators=300;, score=0.737 total time=   0.3s\n",
      "[CV 2/3] END max_depth=4, max_features=2, min_samples_leaf=5, n_estimators=300;, score=0.761 total time=   0.3s\n",
      "[CV 3/3] END max_depth=4, max_features=2, min_samples_leaf=5, n_estimators=300;, score=0.764 total time=   0.3s\n",
      "[CV 1/3] END max_depth=4, max_features=3, min_samples_leaf=2, n_estimators=50;, score=0.879 total time=   0.0s\n",
      "[CV 2/3] END max_depth=4, max_features=3, min_samples_leaf=2, n_estimators=50;, score=0.828 total time=   0.0s\n",
      "[CV 3/3] END max_depth=4, max_features=3, min_samples_leaf=2, n_estimators=50;, score=0.901 total time=   0.0s\n",
      "[CV 1/3] END max_depth=4, max_features=3, min_samples_leaf=2, n_estimators=150;, score=0.897 total time=   0.1s\n",
      "[CV 2/3] END max_depth=4, max_features=3, min_samples_leaf=2, n_estimators=150;, score=0.836 total time=   0.1s\n",
      "[CV 3/3] END max_depth=4, max_features=3, min_samples_leaf=2, n_estimators=150;, score=0.884 total time=   0.1s\n",
      "[CV 1/3] END max_depth=4, max_features=3, min_samples_leaf=2, n_estimators=300;, score=0.888 total time=   0.3s\n",
      "[CV 2/3] END max_depth=4, max_features=3, min_samples_leaf=2, n_estimators=300;, score=0.832 total time=   0.3s\n",
      "[CV 3/3] END max_depth=4, max_features=3, min_samples_leaf=2, n_estimators=300;, score=0.890 total time=   0.3s\n",
      "[CV 1/3] END max_depth=4, max_features=3, min_samples_leaf=5, n_estimators=50;, score=0.830 total time=   0.0s\n",
      "[CV 2/3] END max_depth=4, max_features=3, min_samples_leaf=5, n_estimators=50;, score=0.824 total time=   0.0s\n",
      "[CV 3/3] END max_depth=4, max_features=3, min_samples_leaf=5, n_estimators=50;, score=0.828 total time=   0.0s\n",
      "[CV 1/3] END max_depth=4, max_features=3, min_samples_leaf=5, n_estimators=150;, score=0.817 total time=   0.1s\n",
      "[CV 2/3] END max_depth=4, max_features=3, min_samples_leaf=5, n_estimators=150;, score=0.824 total time=   0.1s\n",
      "[CV 3/3] END max_depth=4, max_features=3, min_samples_leaf=5, n_estimators=150;, score=0.809 total time=   0.1s\n",
      "[CV 1/3] END max_depth=4, max_features=3, min_samples_leaf=5, n_estimators=300;, score=0.824 total time=   0.3s\n",
      "[CV 2/3] END max_depth=4, max_features=3, min_samples_leaf=5, n_estimators=300;, score=0.812 total time=   0.3s\n",
      "[CV 3/3] END max_depth=4, max_features=3, min_samples_leaf=5, n_estimators=300;, score=0.824 total time=   0.4s\n",
      "[CV 1/3] END max_depth=4, max_features=4, min_samples_leaf=2, n_estimators=50;, score=0.900 total time=   0.0s\n",
      "[CV 2/3] END max_depth=4, max_features=4, min_samples_leaf=2, n_estimators=50;, score=0.853 total time=   0.0s\n",
      "[CV 3/3] END max_depth=4, max_features=4, min_samples_leaf=2, n_estimators=50;, score=0.906 total time=   0.0s\n",
      "[CV 1/3] END max_depth=4, max_features=4, min_samples_leaf=2, n_estimators=150;, score=0.890 total time=   0.2s\n",
      "[CV 2/3] END max_depth=4, max_features=4, min_samples_leaf=2, n_estimators=150;, score=0.865 total time=   0.1s\n",
      "[CV 3/3] END max_depth=4, max_features=4, min_samples_leaf=2, n_estimators=150;, score=0.905 total time=   0.2s\n",
      "[CV 1/3] END max_depth=4, max_features=4, min_samples_leaf=2, n_estimators=300;, score=0.893 total time=   0.4s\n",
      "[CV 2/3] END max_depth=4, max_features=4, min_samples_leaf=2, n_estimators=300;, score=0.874 total time=   0.4s\n",
      "[CV 3/3] END max_depth=4, max_features=4, min_samples_leaf=2, n_estimators=300;, score=0.909 total time=   0.4s\n",
      "[CV 1/3] END max_depth=4, max_features=4, min_samples_leaf=5, n_estimators=50;, score=0.832 total time=   0.0s\n",
      "[CV 2/3] END max_depth=4, max_features=4, min_samples_leaf=5, n_estimators=50;, score=0.863 total time=   0.0s\n",
      "[CV 3/3] END max_depth=4, max_features=4, min_samples_leaf=5, n_estimators=50;, score=0.849 total time=   0.0s\n",
      "[CV 1/3] END max_depth=4, max_features=4, min_samples_leaf=5, n_estimators=150;, score=0.831 total time=   0.1s\n",
      "[CV 2/3] END max_depth=4, max_features=4, min_samples_leaf=5, n_estimators=150;, score=0.849 total time=   0.1s\n",
      "[CV 3/3] END max_depth=4, max_features=4, min_samples_leaf=5, n_estimators=150;, score=0.851 total time=   0.1s\n",
      "[CV 1/3] END max_depth=4, max_features=4, min_samples_leaf=5, n_estimators=300;, score=0.833 total time=   0.3s\n",
      "[CV 2/3] END max_depth=4, max_features=4, min_samples_leaf=5, n_estimators=300;, score=0.836 total time=   0.3s\n",
      "[CV 3/3] END max_depth=4, max_features=4, min_samples_leaf=5, n_estimators=300;, score=0.841 total time=   0.3s\n",
      "[CV 1/3] END max_depth=7, max_features=2, min_samples_leaf=2, n_estimators=50;, score=0.868 total time=   0.0s\n",
      "[CV 2/3] END max_depth=7, max_features=2, min_samples_leaf=2, n_estimators=50;, score=0.833 total time=   0.0s\n",
      "[CV 3/3] END max_depth=7, max_features=2, min_samples_leaf=2, n_estimators=50;, score=0.842 total time=   0.0s\n",
      "[CV 1/3] END max_depth=7, max_features=2, min_samples_leaf=2, n_estimators=150;, score=0.854 total time=   0.1s\n",
      "[CV 2/3] END max_depth=7, max_features=2, min_samples_leaf=2, n_estimators=150;, score=0.823 total time=   0.1s\n",
      "[CV 3/3] END max_depth=7, max_features=2, min_samples_leaf=2, n_estimators=150;, score=0.867 total time=   0.1s\n",
      "[CV 1/3] END max_depth=7, max_features=2, min_samples_leaf=2, n_estimators=300;, score=0.857 total time=   0.3s\n",
      "[CV 2/3] END max_depth=7, max_features=2, min_samples_leaf=2, n_estimators=300;, score=0.820 total time=   0.3s\n",
      "[CV 3/3] END max_depth=7, max_features=2, min_samples_leaf=2, n_estimators=300;, score=0.860 total time=   0.3s\n",
      "[CV 1/3] END max_depth=7, max_features=2, min_samples_leaf=5, n_estimators=50;, score=0.766 total time=   0.0s\n",
      "[CV 2/3] END max_depth=7, max_features=2, min_samples_leaf=5, n_estimators=50;, score=0.753 total time=   0.0s\n",
      "[CV 3/3] END max_depth=7, max_features=2, min_samples_leaf=5, n_estimators=50;, score=0.754 total time=   0.0s\n",
      "[CV 1/3] END max_depth=7, max_features=2, min_samples_leaf=5, n_estimators=150;, score=0.745 total time=   0.1s\n",
      "[CV 2/3] END max_depth=7, max_features=2, min_samples_leaf=5, n_estimators=150;, score=0.749 total time=   0.1s\n",
      "[CV 3/3] END max_depth=7, max_features=2, min_samples_leaf=5, n_estimators=150;, score=0.772 total time=   0.1s\n",
      "[CV 1/3] END max_depth=7, max_features=2, min_samples_leaf=5, n_estimators=300;, score=0.755 total time=   0.3s\n",
      "[CV 2/3] END max_depth=7, max_features=2, min_samples_leaf=5, n_estimators=300;, score=0.744 total time=   0.2s\n",
      "[CV 3/3] END max_depth=7, max_features=2, min_samples_leaf=5, n_estimators=300;, score=0.769 total time=   0.3s\n",
      "[CV 1/3] END max_depth=7, max_features=3, min_samples_leaf=2, n_estimators=50;, score=0.910 total time=   0.0s\n",
      "[CV 2/3] END max_depth=7, max_features=3, min_samples_leaf=2, n_estimators=50;, score=0.871 total time=   0.0s\n",
      "[CV 3/3] END max_depth=7, max_features=3, min_samples_leaf=2, n_estimators=50;, score=0.903 total time=   0.0s\n",
      "[CV 1/3] END max_depth=7, max_features=3, min_samples_leaf=2, n_estimators=150;, score=0.909 total time=   0.1s\n",
      "[CV 2/3] END max_depth=7, max_features=3, min_samples_leaf=2, n_estimators=150;, score=0.869 total time=   0.1s\n",
      "[CV 3/3] END max_depth=7, max_features=3, min_samples_leaf=2, n_estimators=150;, score=0.903 total time=   0.1s\n",
      "[CV 1/3] END max_depth=7, max_features=3, min_samples_leaf=2, n_estimators=300;, score=0.913 total time=   0.4s\n",
      "[CV 2/3] END max_depth=7, max_features=3, min_samples_leaf=2, n_estimators=300;, score=0.879 total time=   0.3s\n",
      "[CV 3/3] END max_depth=7, max_features=3, min_samples_leaf=2, n_estimators=300;, score=0.896 total time=   0.3s\n",
      "[CV 1/3] END max_depth=7, max_features=3, min_samples_leaf=5, n_estimators=50;, score=0.800 total time=   0.0s\n",
      "[CV 2/3] END max_depth=7, max_features=3, min_samples_leaf=5, n_estimators=50;, score=0.806 total time=   0.0s\n",
      "[CV 3/3] END max_depth=7, max_features=3, min_samples_leaf=5, n_estimators=50;, score=0.835 total time=   0.0s\n",
      "[CV 1/3] END max_depth=7, max_features=3, min_samples_leaf=5, n_estimators=150;, score=0.827 total time=   0.1s\n",
      "[CV 2/3] END max_depth=7, max_features=3, min_samples_leaf=5, n_estimators=150;, score=0.821 total time=   0.2s\n",
      "[CV 3/3] END max_depth=7, max_features=3, min_samples_leaf=5, n_estimators=150;, score=0.830 total time=   0.1s\n",
      "[CV 1/3] END max_depth=7, max_features=3, min_samples_leaf=5, n_estimators=300;, score=0.826 total time=   0.5s\n",
      "[CV 2/3] END max_depth=7, max_features=3, min_samples_leaf=5, n_estimators=300;, score=0.819 total time=   0.4s\n",
      "[CV 3/3] END max_depth=7, max_features=3, min_samples_leaf=5, n_estimators=300;, score=0.825 total time=   0.4s\n",
      "[CV 1/3] END max_depth=7, max_features=4, min_samples_leaf=2, n_estimators=50;, score=0.914 total time=   0.0s\n",
      "[CV 2/3] END max_depth=7, max_features=4, min_samples_leaf=2, n_estimators=50;, score=0.910 total time=   0.0s\n",
      "[CV 3/3] END max_depth=7, max_features=4, min_samples_leaf=2, n_estimators=50;, score=0.919 total time=   0.0s\n",
      "[CV 1/3] END max_depth=7, max_features=4, min_samples_leaf=2, n_estimators=150;, score=0.914 total time=   0.2s\n",
      "[CV 2/3] END max_depth=7, max_features=4, min_samples_leaf=2, n_estimators=150;, score=0.902 total time=   0.1s\n",
      "[CV 3/3] END max_depth=7, max_features=4, min_samples_leaf=2, n_estimators=150;, score=0.922 total time=   0.1s\n",
      "[CV 1/3] END max_depth=7, max_features=4, min_samples_leaf=2, n_estimators=300;, score=0.912 total time=   0.3s\n",
      "[CV 2/3] END max_depth=7, max_features=4, min_samples_leaf=2, n_estimators=300;, score=0.916 total time=   0.3s\n",
      "[CV 3/3] END max_depth=7, max_features=4, min_samples_leaf=2, n_estimators=300;, score=0.917 total time=   0.3s\n",
      "[CV 1/3] END max_depth=7, max_features=4, min_samples_leaf=5, n_estimators=50;, score=0.845 total time=   0.0s\n",
      "[CV 2/3] END max_depth=7, max_features=4, min_samples_leaf=5, n_estimators=50;, score=0.864 total time=   0.0s\n",
      "[CV 3/3] END max_depth=7, max_features=4, min_samples_leaf=5, n_estimators=50;, score=0.858 total time=   0.0s\n",
      "[CV 1/3] END max_depth=7, max_features=4, min_samples_leaf=5, n_estimators=150;, score=0.833 total time=   0.1s\n",
      "[CV 2/3] END max_depth=7, max_features=4, min_samples_leaf=5, n_estimators=150;, score=0.863 total time=   0.1s\n",
      "[CV 3/3] END max_depth=7, max_features=4, min_samples_leaf=5, n_estimators=150;, score=0.852 total time=   0.1s\n",
      "[CV 1/3] END max_depth=7, max_features=4, min_samples_leaf=5, n_estimators=300;, score=0.835 total time=   0.3s\n",
      "[CV 2/3] END max_depth=7, max_features=4, min_samples_leaf=5, n_estimators=300;, score=0.861 total time=   0.4s\n",
      "[CV 3/3] END max_depth=7, max_features=4, min_samples_leaf=5, n_estimators=300;, score=0.850 total time=   0.3s\n",
      "[CV 1/3] END max_depth=9, max_features=2, min_samples_leaf=2, n_estimators=50;, score=0.867 total time=   0.0s\n",
      "[CV 2/3] END max_depth=9, max_features=2, min_samples_leaf=2, n_estimators=50;, score=0.795 total time=   0.0s\n",
      "[CV 3/3] END max_depth=9, max_features=2, min_samples_leaf=2, n_estimators=50;, score=0.857 total time=   0.0s\n",
      "[CV 1/3] END max_depth=9, max_features=2, min_samples_leaf=2, n_estimators=150;, score=0.868 total time=   0.1s\n",
      "[CV 2/3] END max_depth=9, max_features=2, min_samples_leaf=2, n_estimators=150;, score=0.804 total time=   0.1s\n",
      "[CV 3/3] END max_depth=9, max_features=2, min_samples_leaf=2, n_estimators=150;, score=0.842 total time=   0.1s\n",
      "[CV 1/3] END max_depth=9, max_features=2, min_samples_leaf=2, n_estimators=300;, score=0.861 total time=   0.3s\n",
      "[CV 2/3] END max_depth=9, max_features=2, min_samples_leaf=2, n_estimators=300;, score=0.840 total time=   0.3s\n",
      "[CV 3/3] END max_depth=9, max_features=2, min_samples_leaf=2, n_estimators=300;, score=0.855 total time=   0.3s\n",
      "[CV 1/3] END max_depth=9, max_features=2, min_samples_leaf=5, n_estimators=50;, score=0.808 total time=   0.0s\n",
      "[CV 2/3] END max_depth=9, max_features=2, min_samples_leaf=5, n_estimators=50;, score=0.776 total time=   0.0s\n",
      "[CV 3/3] END max_depth=9, max_features=2, min_samples_leaf=5, n_estimators=50;, score=0.772 total time=   0.0s\n",
      "[CV 1/3] END max_depth=9, max_features=2, min_samples_leaf=5, n_estimators=150;, score=0.760 total time=   0.1s\n",
      "[CV 2/3] END max_depth=9, max_features=2, min_samples_leaf=5, n_estimators=150;, score=0.710 total time=   0.1s\n",
      "[CV 3/3] END max_depth=9, max_features=2, min_samples_leaf=5, n_estimators=150;, score=0.762 total time=   0.1s\n",
      "[CV 1/3] END max_depth=9, max_features=2, min_samples_leaf=5, n_estimators=300;, score=0.781 total time=   0.3s\n",
      "[CV 2/3] END max_depth=9, max_features=2, min_samples_leaf=5, n_estimators=300;, score=0.755 total time=   0.3s\n",
      "[CV 3/3] END max_depth=9, max_features=2, min_samples_leaf=5, n_estimators=300;, score=0.757 total time=   0.3s\n",
      "[CV 1/3] END max_depth=9, max_features=3, min_samples_leaf=2, n_estimators=50;, score=0.915 total time=   0.0s\n",
      "[CV 2/3] END max_depth=9, max_features=3, min_samples_leaf=2, n_estimators=50;, score=0.909 total time=   0.0s\n",
      "[CV 3/3] END max_depth=9, max_features=3, min_samples_leaf=2, n_estimators=50;, score=0.887 total time=   0.0s\n",
      "[CV 1/3] END max_depth=9, max_features=3, min_samples_leaf=2, n_estimators=150;, score=0.912 total time=   0.1s\n",
      "[CV 2/3] END max_depth=9, max_features=3, min_samples_leaf=2, n_estimators=150;, score=0.904 total time=   0.2s\n",
      "[CV 3/3] END max_depth=9, max_features=3, min_samples_leaf=2, n_estimators=150;, score=0.896 total time=   0.1s\n",
      "[CV 1/3] END max_depth=9, max_features=3, min_samples_leaf=2, n_estimators=300;, score=0.912 total time=   0.4s\n",
      "[CV 2/3] END max_depth=9, max_features=3, min_samples_leaf=2, n_estimators=300;, score=0.881 total time=   0.3s\n",
      "[CV 3/3] END max_depth=9, max_features=3, min_samples_leaf=2, n_estimators=300;, score=0.903 total time=   0.3s\n",
      "[CV 1/3] END max_depth=9, max_features=3, min_samples_leaf=5, n_estimators=50;, score=0.813 total time=   0.0s\n",
      "[CV 2/3] END max_depth=9, max_features=3, min_samples_leaf=5, n_estimators=50;, score=0.819 total time=   0.0s\n",
      "[CV 3/3] END max_depth=9, max_features=3, min_samples_leaf=5, n_estimators=50;, score=0.833 total time=   0.0s\n",
      "[CV 1/3] END max_depth=9, max_features=3, min_samples_leaf=5, n_estimators=150;, score=0.825 total time=   0.1s\n",
      "[CV 2/3] END max_depth=9, max_features=3, min_samples_leaf=5, n_estimators=150;, score=0.824 total time=   0.1s\n",
      "[CV 3/3] END max_depth=9, max_features=3, min_samples_leaf=5, n_estimators=150;, score=0.826 total time=   0.1s\n",
      "[CV 1/3] END max_depth=9, max_features=3, min_samples_leaf=5, n_estimators=300;, score=0.831 total time=   0.3s\n",
      "[CV 2/3] END max_depth=9, max_features=3, min_samples_leaf=5, n_estimators=300;, score=0.823 total time=   0.2s\n",
      "[CV 3/3] END max_depth=9, max_features=3, min_samples_leaf=5, n_estimators=300;, score=0.833 total time=   0.3s\n",
      "[CV 1/3] END max_depth=9, max_features=4, min_samples_leaf=2, n_estimators=50;, score=0.903 total time=   0.0s\n",
      "[CV 2/3] END max_depth=9, max_features=4, min_samples_leaf=2, n_estimators=50;, score=0.907 total time=   0.0s\n",
      "[CV 3/3] END max_depth=9, max_features=4, min_samples_leaf=2, n_estimators=50;, score=0.913 total time=   0.0s\n",
      "[CV 1/3] END max_depth=9, max_features=4, min_samples_leaf=2, n_estimators=150;, score=0.911 total time=   0.1s\n",
      "[CV 2/3] END max_depth=9, max_features=4, min_samples_leaf=2, n_estimators=150;, score=0.911 total time=   0.1s\n",
      "[CV 3/3] END max_depth=9, max_features=4, min_samples_leaf=2, n_estimators=150;, score=0.920 total time=   0.1s\n",
      "[CV 1/3] END max_depth=9, max_features=4, min_samples_leaf=2, n_estimators=300;, score=0.916 total time=   0.3s\n",
      "[CV 2/3] END max_depth=9, max_features=4, min_samples_leaf=2, n_estimators=300;, score=0.911 total time=   0.3s\n",
      "[CV 3/3] END max_depth=9, max_features=4, min_samples_leaf=2, n_estimators=300;, score=0.919 total time=   0.2s\n",
      "[CV 1/3] END max_depth=9, max_features=4, min_samples_leaf=5, n_estimators=50;, score=0.840 total time=   0.0s\n",
      "[CV 2/3] END max_depth=9, max_features=4, min_samples_leaf=5, n_estimators=50;, score=0.860 total time=   0.0s\n",
      "[CV 3/3] END max_depth=9, max_features=4, min_samples_leaf=5, n_estimators=50;, score=0.837 total time=   0.0s\n",
      "[CV 1/3] END max_depth=9, max_features=4, min_samples_leaf=5, n_estimators=150;, score=0.839 total time=   0.1s\n",
      "[CV 2/3] END max_depth=9, max_features=4, min_samples_leaf=5, n_estimators=150;, score=0.855 total time=   0.1s\n",
      "[CV 3/3] END max_depth=9, max_features=4, min_samples_leaf=5, n_estimators=150;, score=0.849 total time=   0.1s\n",
      "[CV 1/3] END max_depth=9, max_features=4, min_samples_leaf=5, n_estimators=300;, score=0.841 total time=   0.3s\n",
      "[CV 2/3] END max_depth=9, max_features=4, min_samples_leaf=5, n_estimators=300;, score=0.856 total time=   0.3s\n",
      "[CV 3/3] END max_depth=9, max_features=4, min_samples_leaf=5, n_estimators=300;, score=0.847 total time=   0.2s\n"
     ]
    },
    {
     "data": {
      "text/plain": [
       "GridSearchCV(cv=KFold(n_splits=3, random_state=None, shuffle=True),\n",
       "             estimator=RandomForestRegressor(),\n",
       "             param_grid={'max_depth': [4, 7, 9], 'max_features': [2, 3, 4],\n",
       "                         'min_samples_leaf': [2, 5],\n",
       "                         'n_estimators': [50, 150, 300]},\n",
       "             verbose=3)"
      ]
     },
     "execution_count": 31,
     "metadata": {},
     "output_type": "execute_result"
    }
   ],
   "source": [
    "# perform hyperparameter optimization for the Regression Forest Regressor\n",
    "param_grid1 = {'min_samples_leaf': [2, 5], 'max_depth':[4,7,9], 'max_features':[2,3,4], 'n_estimators':[50, 150,300]}\n",
    "\n",
    "# what parameters to search depends on the expert knowledge\n",
    "grid = GridSearchCV(rfr, param_grid=param_grid1, cv=cv1, verbose=3)  # estimator\n",
    "\n",
    "grid.fit(X_train_i_s, y_train_i)"
   ]
  },
  {
   "cell_type": "code",
   "execution_count": 33,
   "id": "28da330c",
   "metadata": {},
   "outputs": [
    {
     "name": "stdout",
     "output_type": "stream",
     "text": [
      "{'max_depth': 9, 'max_features': 4, 'min_samples_leaf': 2, 'n_estimators': 300}\n"
     ]
    }
   ],
   "source": [
    "## Optimal values of hyperparameters --min_samples_leaf, max_depth, max_features\n",
    "print(grid.best_params_) Texas"
   ]
  },
  {
   "cell_type": "code",
   "execution_count": 34,
   "id": "40b64da1",
   "metadata": {},
   "outputs": [
    {
     "data": {
      "text/plain": [
       "RandomForestRegressor(max_depth=9, max_features=4, min_samples_leaf=2,\n",
       "                      n_estimators=300)"
      ]
     },
     "execution_count": 34,
     "metadata": {},
     "output_type": "execute_result"
    }
   ],
   "source": [
    "grid.best_estimator_ "
   ]
  },
  {
   "cell_type": "code",
   "execution_count": 35,
   "id": "c120a0c5",
   "metadata": {},
   "outputs": [
    {
     "data": {
      "text/plain": [
       "0.9152358358651602"
      ]
     },
     "execution_count": 35,
     "metadata": {},
     "output_type": "execute_result"
    }
   ],
   "source": [
    "grid.best_score_"
   ]
  },
  {
   "cell_type": "code",
   "execution_count": 36,
   "id": "7b11d0e5",
   "metadata": {},
   "outputs": [
    {
     "name": "stdout",
     "output_type": "stream",
     "text": [
      "memorization performance:  0.9881828693647532\n",
      "generalization performance:  0.9812176017372871\n"
     ]
    }
   ],
   "source": [
    "# memorization and generalization performances of the optimal RF regressor model\n",
    "\n",
    "print('memorization performance: ', grid.score(X_train_i_s,y_train_i)) \n",
    "\n",
    "print('generalization performance: ', grid.score(X_test_i_s,y_test_i))  "
   ]
  },
  {
   "cell_type": "code",
   "execution_count": 37,
   "id": "3f7e633a",
   "metadata": {},
   "outputs": [],
   "source": [
    "#Save the best trained model\n",
    "import pickle \n",
    "\n",
    "filename = 'Swirr_RFR.sav'\n",
    "pickle.dump(grid.best_estimator_, open(filename, 'wb'))"
   ]
  }
 ],
 "metadata": {
  "kernelspec": {
   "display_name": "Python 3 (ipykernel)",
   "language": "python",
   "name": "python3"
  },
  "language_info": {
   "codemirror_mode": {
    "name": "ipython",
    "version": 3
   },
   "file_extension": ".py",
   "mimetype": "text/x-python",
   "name": "python",
   "nbconvert_exporter": "python",
   "pygments_lexer": "ipython3",
   "version": "3.9.13"
  }
 },
 "nbformat": 4,
 "nbformat_minor": 5
}
